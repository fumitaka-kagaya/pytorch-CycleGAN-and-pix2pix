{
  "nbformat": 4,
  "nbformat_minor": 0,
  "metadata": {
    "colab": {
      "provenance": [],
      "authorship_tag": "ABX9TyOUhK0NA3zkkD+PS1Ps1gl3",
      "include_colab_link": true
    },
    "kernelspec": {
      "name": "python3",
      "display_name": "Python 3"
    },
    "language_info": {
      "name": "python"
    }
  },
  "cells": [
    {
      "cell_type": "markdown",
      "metadata": {
        "id": "view-in-github",
        "colab_type": "text"
      },
      "source": [
        "<a href=\"https://colab.research.google.com/github/fumitaka-kagaya/pytorch-CycleGAN-and-pix2pix/blob/master/%E7%94%9F%E6%88%90AIaudioLDM%E3%82%92%E4%BD%BF%E3%81%A3%E3%81%9F%E6%95%99%E5%B8%AB%E3%83%87%E3%83%BC%E3%82%BF%E3%81%AE%E9%96%8B%E7%99%BA.ipynb\" target=\"_parent\"><img src=\"https://colab.research.google.com/assets/colab-badge.svg\" alt=\"Open In Colab\"/></a>"
      ]
    },
    {
      "cell_type": "code",
      "execution_count": null,
      "metadata": {
        "colab": {
          "base_uri": "https://localhost:8080/",
          "height": 260
        },
        "id": "sFohDCrcQPyP",
        "outputId": "33bfe907-9a5f-4eed-b1d1-693aa11be778"
      },
      "outputs": [
        {
          "output_type": "stream",
          "name": "stdout",
          "text": [
            "Collecting python-pptx\n",
            "  Downloading python_pptx-1.0.2-py3-none-any.whl.metadata (2.5 kB)\n",
            "Requirement already satisfied: Pillow>=3.3.2 in /usr/local/lib/python3.12/dist-packages (from python-pptx) (11.3.0)\n",
            "Collecting XlsxWriter>=0.5.7 (from python-pptx)\n",
            "  Downloading xlsxwriter-3.2.9-py3-none-any.whl.metadata (2.7 kB)\n",
            "Requirement already satisfied: lxml>=3.1.0 in /usr/local/lib/python3.12/dist-packages (from python-pptx) (5.4.0)\n",
            "Requirement already satisfied: typing-extensions>=4.9.0 in /usr/local/lib/python3.12/dist-packages (from python-pptx) (4.15.0)\n",
            "Downloading python_pptx-1.0.2-py3-none-any.whl (472 kB)\n",
            "\u001b[2K   \u001b[90m━━━━━━━━━━━━━━━━━━━━━━━━━━━━━━━━━━━━━━━━\u001b[0m \u001b[32m472.8/472.8 kB\u001b[0m \u001b[31m4.8 MB/s\u001b[0m eta \u001b[36m0:00:00\u001b[0m\n",
            "\u001b[?25hDownloading xlsxwriter-3.2.9-py3-none-any.whl (175 kB)\n",
            "\u001b[2K   \u001b[90m━━━━━━━━━━━━━━━━━━━━━━━━━━━━━━━━━━━━━━━━\u001b[0m \u001b[32m175.3/175.3 kB\u001b[0m \u001b[31m5.0 MB/s\u001b[0m eta \u001b[36m0:00:00\u001b[0m\n",
            "\u001b[?25hInstalling collected packages: XlsxWriter, python-pptx\n",
            "Successfully installed XlsxWriter-3.2.9 python-pptx-1.0.2\n"
          ]
        },
        {
          "output_type": "display_data",
          "data": {
            "text/plain": [
              "<IPython.core.display.Javascript object>"
            ],
            "application/javascript": [
              "\n",
              "    async function download(id, filename, size) {\n",
              "      if (!google.colab.kernel.accessAllowed) {\n",
              "        return;\n",
              "      }\n",
              "      const div = document.createElement('div');\n",
              "      const label = document.createElement('label');\n",
              "      label.textContent = `Downloading \"${filename}\": `;\n",
              "      div.appendChild(label);\n",
              "      const progress = document.createElement('progress');\n",
              "      progress.max = size;\n",
              "      div.appendChild(progress);\n",
              "      document.body.appendChild(div);\n",
              "\n",
              "      const buffers = [];\n",
              "      let downloaded = 0;\n",
              "\n",
              "      const channel = await google.colab.kernel.comms.open(id);\n",
              "      // Send a message to notify the kernel that we're ready.\n",
              "      channel.send({})\n",
              "\n",
              "      for await (const message of channel.messages) {\n",
              "        // Send a message to notify the kernel that we're ready.\n",
              "        channel.send({})\n",
              "        if (message.buffers) {\n",
              "          for (const buffer of message.buffers) {\n",
              "            buffers.push(buffer);\n",
              "            downloaded += buffer.byteLength;\n",
              "            progress.value = downloaded;\n",
              "          }\n",
              "        }\n",
              "      }\n",
              "      const blob = new Blob(buffers, {type: 'application/binary'});\n",
              "      const a = document.createElement('a');\n",
              "      a.href = window.URL.createObjectURL(blob);\n",
              "      a.download = filename;\n",
              "      div.appendChild(a);\n",
              "      a.click();\n",
              "      div.remove();\n",
              "    }\n",
              "  "
            ]
          },
          "metadata": {}
        },
        {
          "output_type": "display_data",
          "data": {
            "text/plain": [
              "<IPython.core.display.Javascript object>"
            ],
            "application/javascript": [
              "download(\"download_ca18ee60-8ef1-401a-a771-2f69c57963d5\", \"TGS_A_\\u6280\\u8853\\u767a\\u8868\\u7248.pptx\", 31874)"
            ]
          },
          "metadata": {}
        },
        {
          "output_type": "stream",
          "name": "stdout",
          "text": [
            "✅ PowerPointファイル 'TGS_A_技術発表版.pptx' がダウンロードされます。\n"
          ]
        }
      ],
      "source": [
        "# ================================================\n",
        "# Google Colab用：TGS_A_技術発表版（中間版）自動生成\n",
        "# ================================================\n",
        "!pip install python-pptx\n",
        "\n",
        "from pptx import Presentation\n",
        "from pptx.util import Inches, Pt\n",
        "from pptx.enum.text import PP_ALIGN\n",
        "from pptx.dml.color import RGBColor\n",
        "\n",
        "# 新しいプレゼン作成\n",
        "prs = Presentation()\n",
        "FONT = \"MS Gothic\"\n",
        "\n",
        "# ===== スライド1 =====\n",
        "slide1 = prs.slides.add_slide(prs.slide_layouts[5])\n",
        "title = slide1.shapes.add_textbox(Inches(0.8), Inches(0.5), Inches(9), Inches(1))\n",
        "title.text = \"フェーズ0：生成AIによる打音教師データ生成とシステム基盤構築\"\n",
        "\n",
        "txBox = slide1.shapes.add_textbox(Inches(1), Inches(1.5), Inches(8), Inches(4))\n",
        "tf = txBox.text_frame\n",
        "tf.word_wrap = True\n",
        "p = tf.add_paragraph()\n",
        "p.text = (\n",
        "    \"目的：\\n\"\n",
        "    \"実測データが未整備な現状において、生成AI（AudioLDM）により損傷ケースを模擬音で生成し、\\n\"\n",
        "    \"打音判定システムの基礎フレーム（フェーズ0）を構築する。\\n\\n\"\n",
        "    \"最終目標：\\n\"\n",
        "    \"マンホール点検作業を音響AI技術を活用して効率化し、維持管理費用を低減化する。\\n\"\n",
        "    \"また、作業員の危険を伴う点検作業を音響AI技術導入により、安全かつ効率的に行う。\\n\\n\"\n",
        "    \"フェーズ0の位置づけ：\\n\"\n",
        "    \"次フェーズ（実測導入）のためのプロトタイプを構築する。\"\n",
        ")\n",
        "p.font.size = Pt(20)\n",
        "p.font.name = FONT\n",
        "\n",
        "# ===== スライド2 =====\n",
        "slide2 = prs.slides.add_slide(prs.slide_layouts[5])\n",
        "title2 = slide2.shapes.add_textbox(Inches(1), Inches(0.5), Inches(8), Inches(1))\n",
        "title2.text = \"打音判定システム全体構成図（教師データ生成部を赤枠で強調）\"\n",
        "\n",
        "txBox2 = slide2.shapes.add_textbox(Inches(1), Inches(1.5), Inches(8), Inches(4))\n",
        "tf2 = txBox2.text_frame\n",
        "tf2.word_wrap = True\n",
        "p2 = tf2.add_paragraph()\n",
        "p2.text = (\n",
        "    \"実測音 / 生成AI音 → FFT / スペクトログラム解析 → 特徴量抽出\\n\"\n",
        "    \"　↓\\n\"\n",
        "    \"教師データ生成（生成AIによる模擬音追加） ← ★ 教師データ作成の時間・コストを抑制\\n\"\n",
        "    \"　↓\\n\"\n",
        "    \"CNN分類モデル学習 → 推論・可視化\"\n",
        ")\n",
        "p2.font.size = Pt(22)\n",
        "p2.font.name = FONT\n",
        "\n",
        "# 赤枠（強調）\n",
        "left, top, width, height = Inches(0.9), Inches(2.3), Inches(8.1), Inches(0.9)\n",
        "shape = slide2.shapes.add_shape(1, left, top, width, height)  # 1=矩形\n",
        "shape.line.color.rgb = RGBColor(255, 0, 0)\n",
        "shape.line.width = Pt(4)\n",
        "shape.fill.background()\n",
        "\n",
        "# ===== スライド3 =====\n",
        "slide3 = prs.slides.add_slide(prs.slide_layouts[5])\n",
        "title3 = slide3.shapes.add_textbox(Inches(1), Inches(0.5), Inches(8), Inches(1))\n",
        "title3.text = \"今後のロードマップ\"\n",
        "\n",
        "txBox3 = slide3.shapes.add_textbox(Inches(1), Inches(1.5), Inches(8), Inches(4.5))\n",
        "tf3 = txBox3.text_frame\n",
        "tf3.word_wrap = True\n",
        "p3 = tf3.add_paragraph()\n",
        "p3.text = (\n",
        "    \"フェーズ0（現在）：生成AI（AudioLDM）による模擬打音データ生成\\n\"\n",
        "    \"　→ 打音判定システムの基礎フレーム構築\\n\"\n",
        "    \"　→ 成果：プロトタイプ実装（推論動作可能）\\n\\n\"\n",
        "    \"フェーズ1：実測データ導入・fine-tuning・性能検証\\n\"\n",
        "    \"フェーズ2：生成＋実測データ統合・高精度モデル学習\\n\"\n",
        "    \"フェーズ3：現場導入・運用化・継続学習\\n\\n\"\n",
        "    \"注：生成AIによる教師データ作成で、実測データ収集前でも開発を先行。効率的なプロトタイプ開発を実現。\"\n",
        ")\n",
        "p3.font.size = Pt(20)\n",
        "p3.font.name = FONT\n",
        "\n",
        "# ===== 保存とダウンロード =====\n",
        "output_path = \"/content/TGS_A_技術発表版.pptx\"\n",
        "prs.save(output_path)\n",
        "\n",
        "from google.colab import files\n",
        "files.download(output_path)\n",
        "print(\"✅ PowerPointファイル 'TGS_A_技術発表版.pptx' がダウンロードされます。\")\n"
      ]
    }
  ]
}